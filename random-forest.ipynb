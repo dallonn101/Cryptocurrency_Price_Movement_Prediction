{
 "cells": [
  {
   "cell_type": "code",
   "execution_count": 1,
   "id": "d76f3a24",
   "metadata": {
    "_cell_guid": "b1076dfc-b9ad-4769-8c92-a6c4dae69d19",
    "_uuid": "8f2839f25d086af736a60e9eeb907d3b93b6e0e5",
    "execution": {
     "iopub.execute_input": "2024-10-26T16:36:41.187478Z",
     "iopub.status.busy": "2024-10-26T16:36:41.187052Z",
     "iopub.status.idle": "2024-10-26T16:36:44.064182Z",
     "shell.execute_reply": "2024-10-26T16:36:44.062867Z"
    },
    "papermill": {
     "duration": 2.886235,
     "end_time": "2024-10-26T16:36:44.067111",
     "exception": false,
     "start_time": "2024-10-26T16:36:41.180876",
     "status": "completed"
    },
    "tags": []
   },
   "outputs": [
    {
     "name": "stdout",
     "output_type": "stream",
     "text": [
      "/kaggle/input/directional-forecasting-in-cryptocurrencies/sample_submission.csv\n",
      "/kaggle/input/directional-forecasting-in-cryptocurrencies/train.csv\n",
      "/kaggle/input/directional-forecasting-in-cryptocurrencies/test.csv\n"
     ]
    }
   ],
   "source": [
    "# This Python 3 environment comes with many helpful analytics libraries installed\n",
    "# It is defined by the kaggle/python Docker image: https://github.com/kaggle/docker-python\n",
    "# For example, here's several helpful packages to load\n",
    "\n",
    "import numpy as np # linear algebra\n",
    "import pandas as pd # data processing, CSV file I/O (e.g. pd.read_csv)\n",
    "\n",
    "from sklearn.model_selection import train_test_split\n",
    "from sklearn.preprocessing import MinMaxScaler\n",
    "from sklearn.ensemble import RandomForestClassifier\n",
    "from sklearn.metrics import f1_score\n",
    "import joblib\n",
    "# Input data files are available in the read-only \"../input/\" directory\n",
    "# For example, running this (by clicking run or pressing Shift+Enter) will list all files under the input directory\n",
    "\n",
    "import os\n",
    "for dirname, _, filenames in os.walk('/kaggle/input'):\n",
    "    for filename in filenames:\n",
    "        print(os.path.join(dirname, filename))\n",
    "\n",
    "# You can write up to 20GB to the current directory (/kaggle/working/) that gets preserved as output when you create a version using \"Save & Run All\" \n",
    "# You can also write temporary files to /kaggle/temp/, but they won't be saved outside of the current session"
   ]
  },
  {
   "cell_type": "code",
   "execution_count": 2,
   "id": "629be201",
   "metadata": {
    "execution": {
     "iopub.execute_input": "2024-10-26T16:36:44.077634Z",
     "iopub.status.busy": "2024-10-26T16:36:44.077041Z",
     "iopub.status.idle": "2024-10-26T16:36:51.042542Z",
     "shell.execute_reply": "2024-10-26T16:36:51.041337Z"
    },
    "papermill": {
     "duration": 6.973585,
     "end_time": "2024-10-26T16:36:51.045030",
     "exception": false,
     "start_time": "2024-10-26T16:36:44.071445",
     "status": "completed"
    },
    "tags": []
   },
   "outputs": [
    {
     "data": {
      "text/html": [
       "<div>\n",
       "<style scoped>\n",
       "    .dataframe tbody tr th:only-of-type {\n",
       "        vertical-align: middle;\n",
       "    }\n",
       "\n",
       "    .dataframe tbody tr th {\n",
       "        vertical-align: top;\n",
       "    }\n",
       "\n",
       "    .dataframe thead th {\n",
       "        text-align: right;\n",
       "    }\n",
       "</style>\n",
       "<table border=\"1\" class=\"dataframe\">\n",
       "  <thead>\n",
       "    <tr style=\"text-align: right;\">\n",
       "      <th></th>\n",
       "      <th>open</th>\n",
       "      <th>high</th>\n",
       "      <th>low</th>\n",
       "      <th>close</th>\n",
       "      <th>volume</th>\n",
       "      <th>quote_asset_volume</th>\n",
       "      <th>number_of_trades</th>\n",
       "      <th>taker_buy_base_volume</th>\n",
       "      <th>taker_buy_quote_volume</th>\n",
       "      <th>target</th>\n",
       "    </tr>\n",
       "    <tr>\n",
       "      <th>timestamp</th>\n",
       "      <th></th>\n",
       "      <th></th>\n",
       "      <th></th>\n",
       "      <th></th>\n",
       "      <th></th>\n",
       "      <th></th>\n",
       "      <th></th>\n",
       "      <th></th>\n",
       "      <th></th>\n",
       "      <th></th>\n",
       "    </tr>\n",
       "  </thead>\n",
       "  <tbody>\n",
       "    <tr>\n",
       "      <th>2018-05-04 22:01:00</th>\n",
       "      <td>0.90120</td>\n",
       "      <td>0.90130</td>\n",
       "      <td>0.90120</td>\n",
       "      <td>0.90130</td>\n",
       "      <td>134.98</td>\n",
       "      <td>121.646459</td>\n",
       "      <td>4</td>\n",
       "      <td>125.08</td>\n",
       "      <td>112.723589</td>\n",
       "      <td>1</td>\n",
       "    </tr>\n",
       "    <tr>\n",
       "      <th>2018-05-04 22:02:00</th>\n",
       "      <td>0.90185</td>\n",
       "      <td>0.90195</td>\n",
       "      <td>0.90185</td>\n",
       "      <td>0.90195</td>\n",
       "      <td>1070.54</td>\n",
       "      <td>965.505313</td>\n",
       "      <td>12</td>\n",
       "      <td>879.94</td>\n",
       "      <td>793.612703</td>\n",
       "      <td>0</td>\n",
       "    </tr>\n",
       "    <tr>\n",
       "      <th>2018-05-04 22:03:00</th>\n",
       "      <td>0.90140</td>\n",
       "      <td>0.90140</td>\n",
       "      <td>0.90139</td>\n",
       "      <td>0.90139</td>\n",
       "      <td>2293.06</td>\n",
       "      <td>2066.963991</td>\n",
       "      <td>5</td>\n",
       "      <td>0.00</td>\n",
       "      <td>0.000000</td>\n",
       "      <td>0</td>\n",
       "    </tr>\n",
       "    <tr>\n",
       "      <th>2018-05-04 22:04:00</th>\n",
       "      <td>0.90139</td>\n",
       "      <td>0.90140</td>\n",
       "      <td>0.90138</td>\n",
       "      <td>0.90139</td>\n",
       "      <td>6850.59</td>\n",
       "      <td>6175.000909</td>\n",
       "      <td>19</td>\n",
       "      <td>1786.30</td>\n",
       "      <td>1610.149485</td>\n",
       "      <td>0</td>\n",
       "    </tr>\n",
       "    <tr>\n",
       "      <th>2018-05-04 22:05:00</th>\n",
       "      <td>0.90139</td>\n",
       "      <td>0.90139</td>\n",
       "      <td>0.90130</td>\n",
       "      <td>0.90130</td>\n",
       "      <td>832.30</td>\n",
       "      <td>750.222624</td>\n",
       "      <td>3</td>\n",
       "      <td>784.82</td>\n",
       "      <td>707.428900</td>\n",
       "      <td>0</td>\n",
       "    </tr>\n",
       "  </tbody>\n",
       "</table>\n",
       "</div>"
      ],
      "text/plain": [
       "                        open     high      low    close   volume  \\\n",
       "timestamp                                                          \n",
       "2018-05-04 22:01:00  0.90120  0.90130  0.90120  0.90130   134.98   \n",
       "2018-05-04 22:02:00  0.90185  0.90195  0.90185  0.90195  1070.54   \n",
       "2018-05-04 22:03:00  0.90140  0.90140  0.90139  0.90139  2293.06   \n",
       "2018-05-04 22:04:00  0.90139  0.90140  0.90138  0.90139  6850.59   \n",
       "2018-05-04 22:05:00  0.90139  0.90139  0.90130  0.90130   832.30   \n",
       "\n",
       "                     quote_asset_volume  number_of_trades  \\\n",
       "timestamp                                                   \n",
       "2018-05-04 22:01:00          121.646459                 4   \n",
       "2018-05-04 22:02:00          965.505313                12   \n",
       "2018-05-04 22:03:00         2066.963991                 5   \n",
       "2018-05-04 22:04:00         6175.000909                19   \n",
       "2018-05-04 22:05:00          750.222624                 3   \n",
       "\n",
       "                     taker_buy_base_volume  taker_buy_quote_volume  target  \n",
       "timestamp                                                                   \n",
       "2018-05-04 22:01:00                 125.08              112.723589       1  \n",
       "2018-05-04 22:02:00                 879.94              793.612703       0  \n",
       "2018-05-04 22:03:00                   0.00                0.000000       0  \n",
       "2018-05-04 22:04:00                1786.30             1610.149485       0  \n",
       "2018-05-04 22:05:00                 784.82              707.428900       0  "
      ]
     },
     "execution_count": 2,
     "metadata": {},
     "output_type": "execute_result"
    }
   ],
   "source": [
    "# Load the CSV file into a DataFrame\n",
    "data = pd.read_csv('/kaggle/input/directional-forecasting-in-cryptocurrencies/train.csv')\n",
    "data['timestamp'] = pd.to_datetime(data['timestamp'], unit='s')\n",
    "data.set_index('timestamp', inplace=True)\n",
    "data['number_of_trades'] = data['number_of_trades'].astype(int)\n",
    "data['target'] = data['target'].astype(int)\n",
    "data.head()"
   ]
  },
  {
   "cell_type": "code",
   "execution_count": 3,
   "id": "68d67e11",
   "metadata": {
    "execution": {
     "iopub.execute_input": "2024-10-26T16:36:51.055854Z",
     "iopub.status.busy": "2024-10-26T16:36:51.055387Z",
     "iopub.status.idle": "2024-10-26T16:36:51.408401Z",
     "shell.execute_reply": "2024-10-26T16:36:51.406923Z"
    },
    "papermill": {
     "duration": 0.36171,
     "end_time": "2024-10-26T16:36:51.411272",
     "exception": false,
     "start_time": "2024-10-26T16:36:51.049562",
     "status": "completed"
    },
    "tags": []
   },
   "outputs": [],
   "source": [
    "# Define predictors and target\n",
    "predictors = ['open', 'high', 'low', 'close', 'volume', 'quote_asset_volume', 'number_of_trades', 'taker_buy_base_volume', 'taker_buy_quote_volume']\n",
    "X = data[predictors]\n",
    "y = data['target']\n",
    "         \n",
    "# Scale features\n",
    "scaler = MinMaxScaler()\n",
    "X_scaled = scaler.fit_transform(X)"
   ]
  },
  {
   "cell_type": "code",
   "execution_count": 4,
   "id": "b95f0965",
   "metadata": {
    "execution": {
     "iopub.execute_input": "2024-10-26T16:36:51.422153Z",
     "iopub.status.busy": "2024-10-26T16:36:51.421622Z",
     "iopub.status.idle": "2024-10-26T16:36:51.907372Z",
     "shell.execute_reply": "2024-10-26T16:36:51.906183Z"
    },
    "papermill": {
     "duration": 0.494224,
     "end_time": "2024-10-26T16:36:51.910087",
     "exception": false,
     "start_time": "2024-10-26T16:36:51.415863",
     "status": "completed"
    },
    "tags": []
   },
   "outputs": [],
   "source": [
    "# Train-Test Split\n",
    "X_train, X_test, y_train, y_test = train_test_split(X_scaled, y, test_size=0.2, random_state=42)"
   ]
  },
  {
   "cell_type": "code",
   "execution_count": 5,
   "id": "7e5ae12d",
   "metadata": {
    "execution": {
     "iopub.execute_input": "2024-10-26T16:36:51.921543Z",
     "iopub.status.busy": "2024-10-26T16:36:51.920404Z",
     "iopub.status.idle": "2024-10-26T16:58:12.995298Z",
     "shell.execute_reply": "2024-10-26T16:58:12.994040Z"
    },
    "papermill": {
     "duration": 1281.088355,
     "end_time": "2024-10-26T16:58:13.002970",
     "exception": false,
     "start_time": "2024-10-26T16:36:51.914615",
     "status": "completed"
    },
    "tags": []
   },
   "outputs": [
    {
     "data": {
      "text/html": [
       "<style>#sk-container-id-1 {color: black;background-color: white;}#sk-container-id-1 pre{padding: 0;}#sk-container-id-1 div.sk-toggleable {background-color: white;}#sk-container-id-1 label.sk-toggleable__label {cursor: pointer;display: block;width: 100%;margin-bottom: 0;padding: 0.3em;box-sizing: border-box;text-align: center;}#sk-container-id-1 label.sk-toggleable__label-arrow:before {content: \"▸\";float: left;margin-right: 0.25em;color: #696969;}#sk-container-id-1 label.sk-toggleable__label-arrow:hover:before {color: black;}#sk-container-id-1 div.sk-estimator:hover label.sk-toggleable__label-arrow:before {color: black;}#sk-container-id-1 div.sk-toggleable__content {max-height: 0;max-width: 0;overflow: hidden;text-align: left;background-color: #f0f8ff;}#sk-container-id-1 div.sk-toggleable__content pre {margin: 0.2em;color: black;border-radius: 0.25em;background-color: #f0f8ff;}#sk-container-id-1 input.sk-toggleable__control:checked~div.sk-toggleable__content {max-height: 200px;max-width: 100%;overflow: auto;}#sk-container-id-1 input.sk-toggleable__control:checked~label.sk-toggleable__label-arrow:before {content: \"▾\";}#sk-container-id-1 div.sk-estimator input.sk-toggleable__control:checked~label.sk-toggleable__label {background-color: #d4ebff;}#sk-container-id-1 div.sk-label input.sk-toggleable__control:checked~label.sk-toggleable__label {background-color: #d4ebff;}#sk-container-id-1 input.sk-hidden--visually {border: 0;clip: rect(1px 1px 1px 1px);clip: rect(1px, 1px, 1px, 1px);height: 1px;margin: -1px;overflow: hidden;padding: 0;position: absolute;width: 1px;}#sk-container-id-1 div.sk-estimator {font-family: monospace;background-color: #f0f8ff;border: 1px dotted black;border-radius: 0.25em;box-sizing: border-box;margin-bottom: 0.5em;}#sk-container-id-1 div.sk-estimator:hover {background-color: #d4ebff;}#sk-container-id-1 div.sk-parallel-item::after {content: \"\";width: 100%;border-bottom: 1px solid gray;flex-grow: 1;}#sk-container-id-1 div.sk-label:hover label.sk-toggleable__label {background-color: #d4ebff;}#sk-container-id-1 div.sk-serial::before {content: \"\";position: absolute;border-left: 1px solid gray;box-sizing: border-box;top: 0;bottom: 0;left: 50%;z-index: 0;}#sk-container-id-1 div.sk-serial {display: flex;flex-direction: column;align-items: center;background-color: white;padding-right: 0.2em;padding-left: 0.2em;position: relative;}#sk-container-id-1 div.sk-item {position: relative;z-index: 1;}#sk-container-id-1 div.sk-parallel {display: flex;align-items: stretch;justify-content: center;background-color: white;position: relative;}#sk-container-id-1 div.sk-item::before, #sk-container-id-1 div.sk-parallel-item::before {content: \"\";position: absolute;border-left: 1px solid gray;box-sizing: border-box;top: 0;bottom: 0;left: 50%;z-index: -1;}#sk-container-id-1 div.sk-parallel-item {display: flex;flex-direction: column;z-index: 1;position: relative;background-color: white;}#sk-container-id-1 div.sk-parallel-item:first-child::after {align-self: flex-end;width: 50%;}#sk-container-id-1 div.sk-parallel-item:last-child::after {align-self: flex-start;width: 50%;}#sk-container-id-1 div.sk-parallel-item:only-child::after {width: 0;}#sk-container-id-1 div.sk-dashed-wrapped {border: 1px dashed gray;margin: 0 0.4em 0.5em 0.4em;box-sizing: border-box;padding-bottom: 0.4em;background-color: white;}#sk-container-id-1 div.sk-label label {font-family: monospace;font-weight: bold;display: inline-block;line-height: 1.2em;}#sk-container-id-1 div.sk-label-container {text-align: center;}#sk-container-id-1 div.sk-container {/* jupyter's `normalize.less` sets `[hidden] { display: none; }` but bootstrap.min.css set `[hidden] { display: none !important; }` so we also need the `!important` here to be able to override the default hidden behavior on the sphinx rendered scikit-learn.org. See: https://github.com/scikit-learn/scikit-learn/issues/21755 */display: inline-block !important;position: relative;}#sk-container-id-1 div.sk-text-repr-fallback {display: none;}</style><div id=\"sk-container-id-1\" class=\"sk-top-container\"><div class=\"sk-text-repr-fallback\"><pre>RandomForestClassifier(min_samples_split=100, n_estimators=50, random_state=42)</pre><b>In a Jupyter environment, please rerun this cell to show the HTML representation or trust the notebook. <br />On GitHub, the HTML representation is unable to render, please try loading this page with nbviewer.org.</b></div><div class=\"sk-container\" hidden><div class=\"sk-item\"><div class=\"sk-estimator sk-toggleable\"><input class=\"sk-toggleable__control sk-hidden--visually\" id=\"sk-estimator-id-1\" type=\"checkbox\" checked><label for=\"sk-estimator-id-1\" class=\"sk-toggleable__label sk-toggleable__label-arrow\">RandomForestClassifier</label><div class=\"sk-toggleable__content\"><pre>RandomForestClassifier(min_samples_split=100, n_estimators=50, random_state=42)</pre></div></div></div></div></div>"
      ],
      "text/plain": [
       "RandomForestClassifier(min_samples_split=100, n_estimators=50, random_state=42)"
      ]
     },
     "execution_count": 5,
     "metadata": {},
     "output_type": "execute_result"
    }
   ],
   "source": [
    "# Initialize the Random Forest model\n",
    "model = RandomForestClassifier(n_estimators=50, min_samples_split=100, random_state=42)\n",
    "\n",
    "# Train the model\n",
    "model.fit(X_train, y_train)"
   ]
  },
  {
   "cell_type": "code",
   "execution_count": 6,
   "id": "beb6f8e3",
   "metadata": {
    "execution": {
     "iopub.execute_input": "2024-10-26T16:58:13.015024Z",
     "iopub.status.busy": "2024-10-26T16:58:13.013994Z",
     "iopub.status.idle": "2024-10-26T16:58:23.694055Z",
     "shell.execute_reply": "2024-10-26T16:58:23.692793Z"
    },
    "papermill": {
     "duration": 10.689058,
     "end_time": "2024-10-26T16:58:23.696743",
     "exception": false,
     "start_time": "2024-10-26T16:58:13.007685",
     "status": "completed"
    },
    "tags": []
   },
   "outputs": [],
   "source": [
    "# Make predictions\n",
    "y_pred = model.predict(X_test)"
   ]
  },
  {
   "cell_type": "code",
   "execution_count": 7,
   "id": "f318b4ad",
   "metadata": {
    "execution": {
     "iopub.execute_input": "2024-10-26T16:58:23.708466Z",
     "iopub.status.busy": "2024-10-26T16:58:23.707763Z",
     "iopub.status.idle": "2024-10-26T16:58:23.917631Z",
     "shell.execute_reply": "2024-10-26T16:58:23.916173Z"
    },
    "papermill": {
     "duration": 0.218699,
     "end_time": "2024-10-26T16:58:23.920369",
     "exception": false,
     "start_time": "2024-10-26T16:58:23.701670",
     "status": "completed"
    },
    "tags": []
   },
   "outputs": [
    {
     "name": "stdout",
     "output_type": "stream",
     "text": [
      "Macro-Averaged F1 Score: 0.5015480767184072\n"
     ]
    }
   ],
   "source": [
    "# Calculate Macro-Averaged F1 Score\n",
    "macro_f1 = f1_score(y_test, y_pred, average='macro')\n",
    "print(f'Macro-Averaged F1 Score: {macro_f1}')"
   ]
  },
  {
   "cell_type": "code",
   "execution_count": 8,
   "id": "76e5257d",
   "metadata": {
    "execution": {
     "iopub.execute_input": "2024-10-26T16:58:23.932198Z",
     "iopub.status.busy": "2024-10-26T16:58:23.931725Z",
     "iopub.status.idle": "2024-10-26T16:58:24.229063Z",
     "shell.execute_reply": "2024-10-26T16:58:24.227868Z"
    },
    "papermill": {
     "duration": 0.306119,
     "end_time": "2024-10-26T16:58:24.231541",
     "exception": false,
     "start_time": "2024-10-26T16:58:23.925422",
     "status": "completed"
    },
    "tags": []
   },
   "outputs": [
    {
     "data": {
      "text/plain": [
       "['random_forest_model.pkl']"
      ]
     },
     "execution_count": 8,
     "metadata": {},
     "output_type": "execute_result"
    }
   ],
   "source": [
    "# Save the model\n",
    "joblib.dump(model, 'random_forest_model.pkl')"
   ]
  },
  {
   "cell_type": "code",
   "execution_count": 9,
   "id": "c2034756",
   "metadata": {
    "execution": {
     "iopub.execute_input": "2024-10-26T16:58:24.244316Z",
     "iopub.status.busy": "2024-10-26T16:58:24.243461Z",
     "iopub.status.idle": "2024-10-26T16:58:38.126666Z",
     "shell.execute_reply": "2024-10-26T16:58:38.125603Z"
    },
    "papermill": {
     "duration": 13.892642,
     "end_time": "2024-10-26T16:58:38.129445",
     "exception": false,
     "start_time": "2024-10-26T16:58:24.236803",
     "status": "completed"
    },
    "tags": []
   },
   "outputs": [],
   "source": [
    "# Load the model\n",
    "model = joblib.load('random_forest_model.pkl')\n",
    "\n",
    "# Load the test data\n",
    "test_data = pd.read_csv('/kaggle/input/directional-forecasting-in-cryptocurrencies/test.csv')\n",
    "\n",
    "# Define predictors\n",
    "X_test = test_data[predictors]\n",
    "\n",
    "# Scale features\n",
    "X_test_scaled = scaler.transform(X_test)\n",
    "\n",
    "# Make predictions\n",
    "y_pred = model.predict(X_test_scaled)"
   ]
  },
  {
   "cell_type": "code",
   "execution_count": 10,
   "id": "ad3c352d",
   "metadata": {
    "execution": {
     "iopub.execute_input": "2024-10-26T16:58:38.141506Z",
     "iopub.status.busy": "2024-10-26T16:58:38.141087Z",
     "iopub.status.idle": "2024-10-26T16:58:39.355196Z",
     "shell.execute_reply": "2024-10-26T16:58:39.354042Z"
    },
    "papermill": {
     "duration": 1.22312,
     "end_time": "2024-10-26T16:58:39.357821",
     "exception": false,
     "start_time": "2024-10-26T16:58:38.134701",
     "status": "completed"
    },
    "tags": []
   },
   "outputs": [
    {
     "name": "stdout",
     "output_type": "stream",
     "text": [
      "Predictions saved to submission.csv\n"
     ]
    }
   ],
   "source": [
    "# Create a DataFrame with index and predictions\n",
    "predictions_df = pd.DataFrame({'row_id': test_data.index, 'target': y_pred})\n",
    "# Export predictions to CSV\n",
    "predictions_df.to_csv('submission.csv', index=False)\n",
    "\n",
    "print(\"Predictions saved to submission.csv\")"
   ]
  }
 ],
 "metadata": {
  "kaggle": {
   "accelerator": "none",
   "dataSources": [
    {
     "databundleVersionId": 9630059,
     "sourceId": 85340,
     "sourceType": "competition"
    }
   ],
   "dockerImageVersionId": 30786,
   "isGpuEnabled": false,
   "isInternetEnabled": true,
   "language": "python",
   "sourceType": "notebook"
  },
  "kernelspec": {
   "display_name": "Python 3",
   "language": "python",
   "name": "python3"
  },
  "language_info": {
   "codemirror_mode": {
    "name": "ipython",
    "version": 3
   },
   "file_extension": ".py",
   "mimetype": "text/x-python",
   "name": "python",
   "nbconvert_exporter": "python",
   "pygments_lexer": "ipython3",
   "version": "3.10.14"
  },
  "papermill": {
   "default_parameters": {},
   "duration": 1321.981169,
   "end_time": "2024-10-26T16:58:40.085019",
   "environment_variables": {},
   "exception": null,
   "input_path": "__notebook__.ipynb",
   "output_path": "__notebook__.ipynb",
   "parameters": {},
   "start_time": "2024-10-26T16:36:38.103850",
   "version": "2.6.0"
  }
 },
 "nbformat": 4,
 "nbformat_minor": 5
}

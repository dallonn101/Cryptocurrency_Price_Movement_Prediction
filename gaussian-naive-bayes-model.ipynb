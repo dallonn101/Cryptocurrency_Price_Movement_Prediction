{
 "cells": [
  {
   "cell_type": "code",
   "execution_count": 1,
   "id": "061ae864",
   "metadata": {
    "_cell_guid": "b1076dfc-b9ad-4769-8c92-a6c4dae69d19",
    "_uuid": "8f2839f25d086af736a60e9eeb907d3b93b6e0e5",
    "execution": {
     "iopub.execute_input": "2024-10-25T22:57:30.545843Z",
     "iopub.status.busy": "2024-10-25T22:57:30.545437Z",
     "iopub.status.idle": "2024-10-25T22:57:32.740207Z",
     "shell.execute_reply": "2024-10-25T22:57:32.739246Z"
    },
    "papermill": {
     "duration": 2.203053,
     "end_time": "2024-10-25T22:57:32.742481",
     "exception": false,
     "start_time": "2024-10-25T22:57:30.539428",
     "status": "completed"
    },
    "tags": []
   },
   "outputs": [
    {
     "name": "stdout",
     "output_type": "stream",
     "text": [
      "/kaggle/input/directional-forecasting-in-cryptocurrencies/sample_submission.csv\n",
      "/kaggle/input/directional-forecasting-in-cryptocurrencies/train.csv\n",
      "/kaggle/input/directional-forecasting-in-cryptocurrencies/test.csv\n"
     ]
    }
   ],
   "source": [
    "# This Python 3 environment comes with many helpful analytics libraries installed\n",
    "# It is defined by the kaggle/python Docker image: https://github.com/kaggle/docker-python\n",
    "# For example, here's several helpful packages to load\n",
    "\n",
    "import numpy as np # linear algebra\n",
    "import pandas as pd # data processing, CSV file I/O (e.g. pd.read_csv)\n",
    "\n",
    "from sklearn.model_selection import train_test_split\n",
    "from sklearn.naive_bayes import GaussianNB\n",
    "from sklearn.preprocessing import MinMaxScaler\n",
    "from sklearn.metrics import recall_score, precision_score, f1_score, accuracy_score\n",
    "\n",
    "\n",
    "\n",
    "\n",
    "# Input data files are available in the read-only \"../input/\" directory\n",
    "# For example, running this (by clicking run or pressing Shift+Enter) will list all files under the input directory\n",
    "\n",
    "import os\n",
    "for dirname, _, filenames in os.walk('/kaggle/input'):\n",
    "    for filename in filenames:\n",
    "        print(os.path.join(dirname, filename))\n",
    "\n",
    "# You can write up to 20GB to the current directory (/kaggle/working/) that gets preserved as output when you create a version using \"Save & Run All\" \n",
    "# You can also write temporary files to /kaggle/temp/, but they won't be saved outside of the current session"
   ]
  },
  {
   "cell_type": "code",
   "execution_count": 2,
   "id": "69bfd0d8",
   "metadata": {
    "execution": {
     "iopub.execute_input": "2024-10-25T22:57:32.751629Z",
     "iopub.status.busy": "2024-10-25T22:57:32.751190Z",
     "iopub.status.idle": "2024-10-25T22:57:37.981703Z",
     "shell.execute_reply": "2024-10-25T22:57:37.980597Z"
    },
    "papermill": {
     "duration": 5.238178,
     "end_time": "2024-10-25T22:57:37.984539",
     "exception": false,
     "start_time": "2024-10-25T22:57:32.746361",
     "status": "completed"
    },
    "tags": []
   },
   "outputs": [
    {
     "data": {
      "text/html": [
       "<div>\n",
       "<style scoped>\n",
       "    .dataframe tbody tr th:only-of-type {\n",
       "        vertical-align: middle;\n",
       "    }\n",
       "\n",
       "    .dataframe tbody tr th {\n",
       "        vertical-align: top;\n",
       "    }\n",
       "\n",
       "    .dataframe thead th {\n",
       "        text-align: right;\n",
       "    }\n",
       "</style>\n",
       "<table border=\"1\" class=\"dataframe\">\n",
       "  <thead>\n",
       "    <tr style=\"text-align: right;\">\n",
       "      <th></th>\n",
       "      <th>open</th>\n",
       "      <th>high</th>\n",
       "      <th>low</th>\n",
       "      <th>close</th>\n",
       "      <th>volume</th>\n",
       "      <th>quote_asset_volume</th>\n",
       "      <th>number_of_trades</th>\n",
       "      <th>taker_buy_base_volume</th>\n",
       "      <th>taker_buy_quote_volume</th>\n",
       "      <th>target</th>\n",
       "    </tr>\n",
       "    <tr>\n",
       "      <th>timestamp</th>\n",
       "      <th></th>\n",
       "      <th></th>\n",
       "      <th></th>\n",
       "      <th></th>\n",
       "      <th></th>\n",
       "      <th></th>\n",
       "      <th></th>\n",
       "      <th></th>\n",
       "      <th></th>\n",
       "      <th></th>\n",
       "    </tr>\n",
       "  </thead>\n",
       "  <tbody>\n",
       "    <tr>\n",
       "      <th>2018-05-04 22:01:00</th>\n",
       "      <td>0.90120</td>\n",
       "      <td>0.90130</td>\n",
       "      <td>0.90120</td>\n",
       "      <td>0.90130</td>\n",
       "      <td>134.98</td>\n",
       "      <td>121.646459</td>\n",
       "      <td>4</td>\n",
       "      <td>125.08</td>\n",
       "      <td>112.723589</td>\n",
       "      <td>1</td>\n",
       "    </tr>\n",
       "    <tr>\n",
       "      <th>2018-05-04 22:02:00</th>\n",
       "      <td>0.90185</td>\n",
       "      <td>0.90195</td>\n",
       "      <td>0.90185</td>\n",
       "      <td>0.90195</td>\n",
       "      <td>1070.54</td>\n",
       "      <td>965.505313</td>\n",
       "      <td>12</td>\n",
       "      <td>879.94</td>\n",
       "      <td>793.612703</td>\n",
       "      <td>0</td>\n",
       "    </tr>\n",
       "    <tr>\n",
       "      <th>2018-05-04 22:03:00</th>\n",
       "      <td>0.90140</td>\n",
       "      <td>0.90140</td>\n",
       "      <td>0.90139</td>\n",
       "      <td>0.90139</td>\n",
       "      <td>2293.06</td>\n",
       "      <td>2066.963991</td>\n",
       "      <td>5</td>\n",
       "      <td>0.00</td>\n",
       "      <td>0.000000</td>\n",
       "      <td>0</td>\n",
       "    </tr>\n",
       "    <tr>\n",
       "      <th>2018-05-04 22:04:00</th>\n",
       "      <td>0.90139</td>\n",
       "      <td>0.90140</td>\n",
       "      <td>0.90138</td>\n",
       "      <td>0.90139</td>\n",
       "      <td>6850.59</td>\n",
       "      <td>6175.000909</td>\n",
       "      <td>19</td>\n",
       "      <td>1786.30</td>\n",
       "      <td>1610.149485</td>\n",
       "      <td>0</td>\n",
       "    </tr>\n",
       "    <tr>\n",
       "      <th>2018-05-04 22:05:00</th>\n",
       "      <td>0.90139</td>\n",
       "      <td>0.90139</td>\n",
       "      <td>0.90130</td>\n",
       "      <td>0.90130</td>\n",
       "      <td>832.30</td>\n",
       "      <td>750.222624</td>\n",
       "      <td>3</td>\n",
       "      <td>784.82</td>\n",
       "      <td>707.428900</td>\n",
       "      <td>0</td>\n",
       "    </tr>\n",
       "  </tbody>\n",
       "</table>\n",
       "</div>"
      ],
      "text/plain": [
       "                        open     high      low    close   volume  \\\n",
       "timestamp                                                          \n",
       "2018-05-04 22:01:00  0.90120  0.90130  0.90120  0.90130   134.98   \n",
       "2018-05-04 22:02:00  0.90185  0.90195  0.90185  0.90195  1070.54   \n",
       "2018-05-04 22:03:00  0.90140  0.90140  0.90139  0.90139  2293.06   \n",
       "2018-05-04 22:04:00  0.90139  0.90140  0.90138  0.90139  6850.59   \n",
       "2018-05-04 22:05:00  0.90139  0.90139  0.90130  0.90130   832.30   \n",
       "\n",
       "                     quote_asset_volume  number_of_trades  \\\n",
       "timestamp                                                   \n",
       "2018-05-04 22:01:00          121.646459                 4   \n",
       "2018-05-04 22:02:00          965.505313                12   \n",
       "2018-05-04 22:03:00         2066.963991                 5   \n",
       "2018-05-04 22:04:00         6175.000909                19   \n",
       "2018-05-04 22:05:00          750.222624                 3   \n",
       "\n",
       "                     taker_buy_base_volume  taker_buy_quote_volume  target  \n",
       "timestamp                                                                   \n",
       "2018-05-04 22:01:00                 125.08              112.723589       1  \n",
       "2018-05-04 22:02:00                 879.94              793.612703       0  \n",
       "2018-05-04 22:03:00                   0.00                0.000000       0  \n",
       "2018-05-04 22:04:00                1786.30             1610.149485       0  \n",
       "2018-05-04 22:05:00                 784.82              707.428900       0  "
      ]
     },
     "execution_count": 2,
     "metadata": {},
     "output_type": "execute_result"
    }
   ],
   "source": [
    "# Load the CSV file into a DataFrame\n",
    "\n",
    "data = pd.read_csv('/kaggle/input/directional-forecasting-in-cryptocurrencies/train.csv')\n",
    "data['timestamp'] = pd.to_datetime(data['timestamp'], unit='s')\n",
    "data.set_index('timestamp', inplace=True)\n",
    "data['number_of_trades'] = data['number_of_trades'].astype(int)\n",
    "data['target'] = data['target'].astype(int)\n",
    "data.head()\n"
   ]
  },
  {
   "cell_type": "code",
   "execution_count": 3,
   "id": "300400a2",
   "metadata": {
    "execution": {
     "iopub.execute_input": "2024-10-25T22:57:37.997595Z",
     "iopub.status.busy": "2024-10-25T22:57:37.997237Z",
     "iopub.status.idle": "2024-10-25T22:57:38.341148Z",
     "shell.execute_reply": "2024-10-25T22:57:38.339629Z"
    },
    "papermill": {
     "duration": 0.354464,
     "end_time": "2024-10-25T22:57:38.345105",
     "exception": false,
     "start_time": "2024-10-25T22:57:37.990641",
     "status": "completed"
    },
    "tags": []
   },
   "outputs": [],
   "source": [
    "# Define predictors and target\n",
    "predictors = ['open', 'high', 'low', 'close', 'volume', 'quote_asset_volume', 'number_of_trades', 'taker_buy_base_volume', 'taker_buy_quote_volume']\n",
    "X = data[predictors]\n",
    "y = data['target']\n",
    "\n",
    "# Standardize features\n",
    "scaler = MinMaxScaler()\n",
    "X_scaled = scaler.fit_transform(X)"
   ]
  },
  {
   "cell_type": "code",
   "execution_count": 4,
   "id": "7d9c0f32",
   "metadata": {
    "execution": {
     "iopub.execute_input": "2024-10-25T22:57:38.358883Z",
     "iopub.status.busy": "2024-10-25T22:57:38.358326Z",
     "iopub.status.idle": "2024-10-25T22:57:38.795600Z",
     "shell.execute_reply": "2024-10-25T22:57:38.794766Z"
    },
    "papermill": {
     "duration": 0.446524,
     "end_time": "2024-10-25T22:57:38.798424",
     "exception": false,
     "start_time": "2024-10-25T22:57:38.351900",
     "status": "completed"
    },
    "tags": []
   },
   "outputs": [],
   "source": [
    "# Train-Test Split\n",
    "X_train, X_test, y_train, y_test = train_test_split(X_scaled, y, test_size=0.2, random_state=1)"
   ]
  },
  {
   "cell_type": "code",
   "execution_count": 5,
   "id": "1cdfd96e",
   "metadata": {
    "execution": {
     "iopub.execute_input": "2024-10-25T22:57:38.808964Z",
     "iopub.status.busy": "2024-10-25T22:57:38.808195Z",
     "iopub.status.idle": "2024-10-25T22:57:39.396820Z",
     "shell.execute_reply": "2024-10-25T22:57:39.395743Z"
    },
    "papermill": {
     "duration": 0.596173,
     "end_time": "2024-10-25T22:57:39.399266",
     "exception": false,
     "start_time": "2024-10-25T22:57:38.803093",
     "status": "completed"
    },
    "tags": []
   },
   "outputs": [
    {
     "data": {
      "text/html": [
       "<style>#sk-container-id-1 {color: black;background-color: white;}#sk-container-id-1 pre{padding: 0;}#sk-container-id-1 div.sk-toggleable {background-color: white;}#sk-container-id-1 label.sk-toggleable__label {cursor: pointer;display: block;width: 100%;margin-bottom: 0;padding: 0.3em;box-sizing: border-box;text-align: center;}#sk-container-id-1 label.sk-toggleable__label-arrow:before {content: \"▸\";float: left;margin-right: 0.25em;color: #696969;}#sk-container-id-1 label.sk-toggleable__label-arrow:hover:before {color: black;}#sk-container-id-1 div.sk-estimator:hover label.sk-toggleable__label-arrow:before {color: black;}#sk-container-id-1 div.sk-toggleable__content {max-height: 0;max-width: 0;overflow: hidden;text-align: left;background-color: #f0f8ff;}#sk-container-id-1 div.sk-toggleable__content pre {margin: 0.2em;color: black;border-radius: 0.25em;background-color: #f0f8ff;}#sk-container-id-1 input.sk-toggleable__control:checked~div.sk-toggleable__content {max-height: 200px;max-width: 100%;overflow: auto;}#sk-container-id-1 input.sk-toggleable__control:checked~label.sk-toggleable__label-arrow:before {content: \"▾\";}#sk-container-id-1 div.sk-estimator input.sk-toggleable__control:checked~label.sk-toggleable__label {background-color: #d4ebff;}#sk-container-id-1 div.sk-label input.sk-toggleable__control:checked~label.sk-toggleable__label {background-color: #d4ebff;}#sk-container-id-1 input.sk-hidden--visually {border: 0;clip: rect(1px 1px 1px 1px);clip: rect(1px, 1px, 1px, 1px);height: 1px;margin: -1px;overflow: hidden;padding: 0;position: absolute;width: 1px;}#sk-container-id-1 div.sk-estimator {font-family: monospace;background-color: #f0f8ff;border: 1px dotted black;border-radius: 0.25em;box-sizing: border-box;margin-bottom: 0.5em;}#sk-container-id-1 div.sk-estimator:hover {background-color: #d4ebff;}#sk-container-id-1 div.sk-parallel-item::after {content: \"\";width: 100%;border-bottom: 1px solid gray;flex-grow: 1;}#sk-container-id-1 div.sk-label:hover label.sk-toggleable__label {background-color: #d4ebff;}#sk-container-id-1 div.sk-serial::before {content: \"\";position: absolute;border-left: 1px solid gray;box-sizing: border-box;top: 0;bottom: 0;left: 50%;z-index: 0;}#sk-container-id-1 div.sk-serial {display: flex;flex-direction: column;align-items: center;background-color: white;padding-right: 0.2em;padding-left: 0.2em;position: relative;}#sk-container-id-1 div.sk-item {position: relative;z-index: 1;}#sk-container-id-1 div.sk-parallel {display: flex;align-items: stretch;justify-content: center;background-color: white;position: relative;}#sk-container-id-1 div.sk-item::before, #sk-container-id-1 div.sk-parallel-item::before {content: \"\";position: absolute;border-left: 1px solid gray;box-sizing: border-box;top: 0;bottom: 0;left: 50%;z-index: -1;}#sk-container-id-1 div.sk-parallel-item {display: flex;flex-direction: column;z-index: 1;position: relative;background-color: white;}#sk-container-id-1 div.sk-parallel-item:first-child::after {align-self: flex-end;width: 50%;}#sk-container-id-1 div.sk-parallel-item:last-child::after {align-self: flex-start;width: 50%;}#sk-container-id-1 div.sk-parallel-item:only-child::after {width: 0;}#sk-container-id-1 div.sk-dashed-wrapped {border: 1px dashed gray;margin: 0 0.4em 0.5em 0.4em;box-sizing: border-box;padding-bottom: 0.4em;background-color: white;}#sk-container-id-1 div.sk-label label {font-family: monospace;font-weight: bold;display: inline-block;line-height: 1.2em;}#sk-container-id-1 div.sk-label-container {text-align: center;}#sk-container-id-1 div.sk-container {/* jupyter's `normalize.less` sets `[hidden] { display: none; }` but bootstrap.min.css set `[hidden] { display: none !important; }` so we also need the `!important` here to be able to override the default hidden behavior on the sphinx rendered scikit-learn.org. See: https://github.com/scikit-learn/scikit-learn/issues/21755 */display: inline-block !important;position: relative;}#sk-container-id-1 div.sk-text-repr-fallback {display: none;}</style><div id=\"sk-container-id-1\" class=\"sk-top-container\"><div class=\"sk-text-repr-fallback\"><pre>GaussianNB()</pre><b>In a Jupyter environment, please rerun this cell to show the HTML representation or trust the notebook. <br />On GitHub, the HTML representation is unable to render, please try loading this page with nbviewer.org.</b></div><div class=\"sk-container\" hidden><div class=\"sk-item\"><div class=\"sk-estimator sk-toggleable\"><input class=\"sk-toggleable__control sk-hidden--visually\" id=\"sk-estimator-id-1\" type=\"checkbox\" checked><label for=\"sk-estimator-id-1\" class=\"sk-toggleable__label sk-toggleable__label-arrow\">GaussianNB</label><div class=\"sk-toggleable__content\"><pre>GaussianNB()</pre></div></div></div></div></div>"
      ],
      "text/plain": [
       "GaussianNB()"
      ]
     },
     "execution_count": 5,
     "metadata": {},
     "output_type": "execute_result"
    }
   ],
   "source": [
    "# Initialize the Gaussian Naive Bayes model\n",
    "model = GaussianNB()\n",
    "\n",
    "# Train the model\n",
    "model.fit(X_train, y_train)"
   ]
  },
  {
   "cell_type": "code",
   "execution_count": 6,
   "id": "d591e5c5",
   "metadata": {
    "execution": {
     "iopub.execute_input": "2024-10-25T22:57:39.410110Z",
     "iopub.status.busy": "2024-10-25T22:57:39.409692Z",
     "iopub.status.idle": "2024-10-25T22:57:39.519904Z",
     "shell.execute_reply": "2024-10-25T22:57:39.518925Z"
    },
    "papermill": {
     "duration": 0.118328,
     "end_time": "2024-10-25T22:57:39.522300",
     "exception": false,
     "start_time": "2024-10-25T22:57:39.403972",
     "status": "completed"
    },
    "tags": []
   },
   "outputs": [],
   "source": [
    "# Make predictions\n",
    "y_pred = model.predict(X_test)"
   ]
  },
  {
   "cell_type": "code",
   "execution_count": 7,
   "id": "4b1e4ec5",
   "metadata": {
    "execution": {
     "iopub.execute_input": "2024-10-25T22:57:39.533353Z",
     "iopub.status.busy": "2024-10-25T22:57:39.532517Z",
     "iopub.status.idle": "2024-10-25T22:57:39.743791Z",
     "shell.execute_reply": "2024-10-25T22:57:39.742756Z"
    },
    "papermill": {
     "duration": 0.219187,
     "end_time": "2024-10-25T22:57:39.746110",
     "exception": false,
     "start_time": "2024-10-25T22:57:39.526923",
     "status": "completed"
    },
    "tags": []
   },
   "outputs": [
    {
     "name": "stdout",
     "output_type": "stream",
     "text": [
      "Accuracy: 0.5237815909990389\n",
      "Precision: 0.49608798346619426\n"
     ]
    }
   ],
   "source": [
    "# Accuracy\n",
    "accuracy = accuracy_score(y_test, y_pred)\n",
    "print(f'Accuracy: {accuracy}')\n",
    "\n",
    "# Precision\n",
    "precision = precision_score(y_test, y_pred)\n",
    "print(f'Precision: {precision}')"
   ]
  },
  {
   "cell_type": "code",
   "execution_count": 8,
   "id": "7ea3ce20",
   "metadata": {
    "execution": {
     "iopub.execute_input": "2024-10-25T22:57:39.757420Z",
     "iopub.status.busy": "2024-10-25T22:57:39.756509Z",
     "iopub.status.idle": "2024-10-25T22:57:39.764515Z",
     "shell.execute_reply": "2024-10-25T22:57:39.763460Z"
    },
    "papermill": {
     "duration": 0.015607,
     "end_time": "2024-10-25T22:57:39.766635",
     "exception": false,
     "start_time": "2024-10-25T22:57:39.751028",
     "status": "completed"
    },
    "tags": []
   },
   "outputs": [
    {
     "name": "stdout",
     "output_type": "stream",
     "text": [
      "Model saved as gnb_model.pkl\n"
     ]
    }
   ],
   "source": [
    "import joblib\n",
    "\n",
    "# Save the Gaussian Naive Bayes model\n",
    "joblib_file = \"gnb_model.pkl\"\n",
    "joblib.dump(model, joblib_file)\n",
    "\n",
    "print(f\"Model saved as {joblib_file}\")"
   ]
  },
  {
   "cell_type": "code",
   "execution_count": 9,
   "id": "6088f4aa",
   "metadata": {
    "execution": {
     "iopub.execute_input": "2024-10-25T22:57:39.777831Z",
     "iopub.status.busy": "2024-10-25T22:57:39.777154Z",
     "iopub.status.idle": "2024-10-25T22:57:41.989578Z",
     "shell.execute_reply": "2024-10-25T22:57:41.988682Z"
    },
    "papermill": {
     "duration": 2.220646,
     "end_time": "2024-10-25T22:57:41.992126",
     "exception": false,
     "start_time": "2024-10-25T22:57:39.771480",
     "status": "completed"
    },
    "tags": []
   },
   "outputs": [],
   "source": [
    "# Load the model\n",
    "model = joblib.load('gnb_model.pkl')\n",
    "\n",
    "# Load the test data\n",
    "test_data = pd.read_csv('/kaggle/input/directional-forecasting-in-cryptocurrencies/test.csv')\n",
    "\n",
    "# Define predictors\n",
    "predictors = ['open', 'high', 'low', 'close', 'volume', 'quote_asset_volume', 'number_of_trades', 'taker_buy_base_volume', 'taker_buy_quote_volume']\n",
    "\n",
    "# Standardize features using MinMaxScaler\n",
    "X_test = test_data[predictors]\n",
    "scaler = MinMaxScaler()\n",
    "X_test_scaled = scaler.fit_transform(X_test)"
   ]
  },
  {
   "cell_type": "code",
   "execution_count": 10,
   "id": "691b76f2",
   "metadata": {
    "execution": {
     "iopub.execute_input": "2024-10-25T22:57:42.003977Z",
     "iopub.status.busy": "2024-10-25T22:57:42.003112Z",
     "iopub.status.idle": "2024-10-25T22:57:43.260160Z",
     "shell.execute_reply": "2024-10-25T22:57:43.258958Z"
    },
    "papermill": {
     "duration": 1.265601,
     "end_time": "2024-10-25T22:57:43.262768",
     "exception": false,
     "start_time": "2024-10-25T22:57:41.997167",
     "status": "completed"
    },
    "tags": []
   },
   "outputs": [
    {
     "name": "stdout",
     "output_type": "stream",
     "text": [
      "Predictions saved to submission.csv\n"
     ]
    }
   ],
   "source": [
    "# Make predictions\n",
    "y_pred = model.predict(X_test_scaled)\n",
    "\n",
    "# Create a DataFrame with index and predictions\n",
    "predictions_df = pd.DataFrame({'row_id': test_data.index, 'target': y_pred})\n",
    "\n",
    "# Export predictions to CSV\n",
    "predictions_df.to_csv('submission.csv', index=False)\n",
    "\n",
    "print(\"Predictions saved to submission.csv\")"
   ]
  }
 ],
 "metadata": {
  "kaggle": {
   "accelerator": "none",
   "dataSources": [
    {
     "databundleVersionId": 9630059,
     "sourceId": 85340,
     "sourceType": "competition"
    }
   ],
   "dockerImageVersionId": 30786,
   "isGpuEnabled": false,
   "isInternetEnabled": true,
   "language": "python",
   "sourceType": "notebook"
  },
  "kernelspec": {
   "display_name": "Python 3",
   "language": "python",
   "name": "python3"
  },
  "language_info": {
   "codemirror_mode": {
    "name": "ipython",
    "version": 3
   },
   "file_extension": ".py",
   "mimetype": "text/x-python",
   "name": "python",
   "nbconvert_exporter": "python",
   "pygments_lexer": "ipython3",
   "version": "3.10.14"
  },
  "papermill": {
   "default_parameters": {},
   "duration": 15.937561,
   "end_time": "2024-10-25T22:57:43.787644",
   "environment_variables": {},
   "exception": null,
   "input_path": "__notebook__.ipynb",
   "output_path": "__notebook__.ipynb",
   "parameters": {},
   "start_time": "2024-10-25T22:57:27.850083",
   "version": "2.6.0"
  }
 },
 "nbformat": 4,
 "nbformat_minor": 5
}
